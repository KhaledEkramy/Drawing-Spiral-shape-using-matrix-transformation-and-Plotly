{
 "cells": [
  {
   "cell_type": "markdown",
   "id": "1f9ea2cf",
   "metadata": {},
   "source": [
    "# Importing needed libraries"
   ]
  },
  {
   "cell_type": "code",
   "execution_count": null,
   "id": "161ad614",
   "metadata": {},
   "outputs": [],
   "source": [
    "import plotly.graph_objects as go\n",
    "import numpy as np\n",
    "import time\n",
    "from IPython.display import display, clear_output"
   ]
  },
  {
   "cell_type": "markdown",
   "id": "6ad8a364",
   "metadata": {},
   "source": [
    "# Define the coordinates of the initial point"
   ]
  },
  {
   "cell_type": "code",
   "execution_count": null,
   "id": "2d639e7c",
   "metadata": {},
   "outputs": [],
   "source": [
    "the_point = np.array([100, 100])\n",
    "prev_point = np.array([100, 100])"
   ]
  },
  {
   "cell_type": "markdown",
   "id": "5540b856",
   "metadata": {},
   "source": [
    "# Transformation matrix to go forward on the polynomial 'The spiral shape'"
   ]
  },
  {
   "cell_type": "code",
   "execution_count": null,
   "id": "baf6eb49",
   "metadata": {},
   "outputs": [],
   "source": [
    "transform_matrix = np.array([[0.9, 0.8], \n",
    "                             [-1, 0.35]]) # to move the starting point on the spiral shape"
   ]
  },
  {
   "cell_type": "markdown",
   "id": "31c2bbcc",
   "metadata": {},
   "source": [
    "# Perform transformation and plotting"
   ]
  },
  {
   "cell_type": "code",
   "execution_count": null,
   "id": "b886f220",
   "metadata": {},
   "outputs": [],
   "source": [
    "x_points = [prev_point[0]]\n",
    "y_points = [prev_point[1]]\n",
    "\n",
    "for i in range(50):\n",
    "    the_point = np.dot(transform_matrix, prev_point)\n",
    "    x_points.append(the_point[0])\n",
    "    y_points.append(the_point[1])\n",
    "    prev_point = the_point.copy()\n",
    "    fig = go.Figure()\n",
    "\n",
    "    fig.add_trace(go.Scatter(x=x_points, y=y_points, mode='markers+lines', marker=dict(color='blue')))\n",
    "\n",
    "    fig.update_layout(title='The Spiral Shape', xaxis_title='X-axis', yaxis_title='Y-axis')\n",
    "    clear_output(wait=True)\n",
    "    fig.show()\n",
    "    time.sleep(0.5)\n"
   ]
  }
 ],
 "metadata": {
  "kernelspec": {
   "display_name": "Python 3 (ipykernel)",
   "language": "python",
   "name": "python3"
  },
  "language_info": {
   "codemirror_mode": {
    "name": "ipython",
    "version": 3
   },
   "file_extension": ".py",
   "mimetype": "text/x-python",
   "name": "python",
   "nbconvert_exporter": "python",
   "pygments_lexer": "ipython3",
   "version": "3.12.3"
  }
 },
 "nbformat": 4,
 "nbformat_minor": 5
}
